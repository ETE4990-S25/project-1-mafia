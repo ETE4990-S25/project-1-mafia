{
 "cells": [
  {
   "cell_type": "code",
   "execution_count": null,
   "metadata": {},
   "outputs": [],
   "source": [
    "## Mafia game intro\n",
    "\n",
    "input( \"press enter to start:\")\n",
    "print ( \"wire sounds \")\n",
    "print (\" flashing lights\")\n",
    "print ( \" woow you are spining out of control\" )\n",
    "print ( \" try to stop the spining\")\n",
    "input (\" press your enter to stop\")\n",
    "\n",
    "print ( \" it seems like you have entered a time machine \" )\n",
    "print ( \" Welcome, or should I say good luck...\" )\n",
    "\n"
   ]
  },
  {
   "cell_type": "code",
   "execution_count": 4,
   "metadata": {},
   "outputs": [],
   "source": [
    "#### charators are in one file \n",
    "### npc detec uses a dice roll to pick joureny \n",
    "## DOCTOR WILL ALWAYS roll a dice on who to save"
   ]
  },
  {
   "cell_type": "code",
   "execution_count": null,
   "metadata": {},
   "outputs": [],
   "source": []
  },
  {
   "cell_type": "code",
   "execution_count": 3,
   "metadata": {},
   "outputs": [
    {
     "name": "stdout",
     "output_type": "stream",
     "text": [
      " my name is Fern. I am the all seeing eye... I will be the narrator of this story\n",
      "I dont often see many new people around this town...Lets find out who you are\n",
      "ooo scary a murder is in town\n"
     ]
    }
   ],
   "source": [
    "input(\"press enter to continue:\")\n",
    "print(\" my name is Fern. I am the all seeing eye... I will be the narrator of this story\")\n",
    "print (\"I dont often see many new people around this town...Lets find out who you are\")\n",
    "choice = input ( \"Press 1 for Murder or 2 for Detective\")\n",
    "if choice == '1':\n",
    "  print (\"ooo scary a murder is in town\")\n",
    "elif choice == '2':\n",
    "  print (\" so theres a new sherif in town then...\")\n",
    "else:\n",
    "  print(\"Pick again 1 or 2.\")"
   ]
  },
  {
   "cell_type": "code",
   "execution_count": 17,
   "metadata": {},
   "outputs": [
    {
     "ename": "IndentationError",
     "evalue": "unindent does not match any outer indentation level (<string>, line 4)",
     "output_type": "error",
     "traceback": [
      "\u001b[1;36m  File \u001b[1;32m<string>:4\u001b[1;36m\u001b[0m\n\u001b[1;33m    if choice == 'p':\u001b[0m\n\u001b[1;37m                     ^\u001b[0m\n\u001b[1;31mIndentationError\u001b[0m\u001b[1;31m:\u001b[0m unindent does not match any outer indentation level\n"
     ]
    }
   ],
   "source": [
    "if choice == '1':\n",
    " ##   print('murder inventory')\n",
    "    choice = input(\"Pick your murder method: p for pillow, k for knife, g for gun: \")\n",
    "   if choice == 'p':\n",
    "        print (\"night night it is...\" )\n",
    "   elif choice == 'k':\n",
    "   print ('didnt anyone ever tell you to be carefull runing around with Knifes' )\n",
    "   elif choice == 'g':\n",
    "         print(\"aah a classic one and done kinda deal\")"
   ]
  },
  {
   "cell_type": "code",
   "execution_count": 18,
   "metadata": {},
   "outputs": [
    {
     "name": "stdout",
     "output_type": "stream",
     "text": [
      "Ah, a classic one and done kind of deal.\n"
     ]
    }
   ],
   "source": [
    "choice = input(\"Enter your choice (1 to pick murder method): \")\n",
    "\n",
    "if choice == '1':\n",
    "    choice = input(\"Pick your murder method: p for pillow, k for knife, g for gun: \")\n",
    "    \n",
    "    if choice == 'p':\n",
    "        print(\"Night night it is...\")\n",
    "    elif choice == 'k':\n",
    "        print(\"Didn't anyone ever tell you to be careful running around with knives?\")\n",
    "    elif choice == 'g':\n",
    "        print(\"Ah, a classic one and done kind of deal.\")\n",
    "    else:\n",
    "        print(\"Invalid choice. Please choose either p, k, or g.\")"
   ]
  },
  {
   "cell_type": "code",
   "execution_count": 19,
   "metadata": {},
   "outputs": [
    {
     "name": "stdout",
     "output_type": "stream",
     "text": [
      "Ah, a classic one and done kind of deal.\n"
     ]
    }
   ],
   "source": [
    "choice = input(\"Pick your murder method: p for pillow, k for knife, g for gun: \")\n",
    "\n",
    "if choice == 'p':\n",
    "    print(\"Night night it is...\")\n",
    "elif choice == 'k':\n",
    "    print(\"Didn't anyone ever tell you to be careful running around with knives?\")\n",
    "elif choice == 'g':\n",
    "    print(\"Ah, a classic one and done kind of deal.\")\n",
    "else:\n",
    "    print(\"Invalid choice. Please choose either p, k, or g.\")"
   ]
  },
  {
   "cell_type": "code",
   "execution_count": 6,
   "metadata": {},
   "outputs": [],
   "source": [
    "if choice == '2':\n",
    "    ## PRINT (DECTETIVE INVENTORY)\n",
    "    if choice == input (\" pick your method of pursuit sus for picking a suspect, ft to follow tracks, lc look for clues, w wait out the perp \"):\n",
    "      if choice == 'sus':\n",
    "        print (\"who is the most sus here\")\n",
    "elif choice == 'Ft':\n",
    "    print ('ooo follow those steps')\n",
    "if choice == 'lc':\n",
    "    print (\"take out your magnifying glass.\")\n",
    "if choice == (\"w\") : \n",
    "   print(\" ok then keep waiting...\")"
   ]
  },
  {
   "cell_type": "code",
   "execution_count": 9,
   "metadata": {},
   "outputs": [
    {
     "name": "stdout",
     "output_type": "stream",
     "text": [
      " ok then keep waiting...\n"
     ]
    }
   ],
   "source": [
    "####btesting\n",
    "choice = input(\"Enter your choice (2 to pick detective method): \")\n",
    "if choice == '2':\n",
    "    ## PRINT (DECTETIVE INVENTORY)\n",
    "       choice = input (\" pick your method of pursuit: s for picking a suspect, f to follow tracks, l look for clues, w wait out the perp: \").strip()\n",
    "\n",
    "       if choice.lower () == 's':\n",
    "              print (\"who is the most sus here\")\n",
    "       elif choice.lower() == 'f':\n",
    "              print (\"ooo follow those steps\")\n",
    "       elif choice.lower() == 'l':\n",
    "              print (\"take out your magnifying glass.\")\n",
    "       elif choice.lower() == 'w':\n",
    "              print(\" ok then keep waiting...\")\n",
    "       else:\n",
    "              print(\"Invalid choice. Please choose from 's', 'f', 'l', or 'w'.\")"
   ]
  },
  {
   "cell_type": "code",
   "execution_count": null,
   "metadata": {},
   "outputs": [],
   "source": [
    "### old code \n",
    "if choice == '2':\n",
    "    ## PRINT (DECTETIVE INVENTORY)\n",
    " choice == input (\" pick your method of pursuit sus for picking a suspect, ft to follow tracks, lc look for clues, w wait out the perp enter: \")\n",
    "if choice == 'sus':\n",
    "          print (\"who is the most sus here\")\n",
    "elif choice == 'Ft':\n",
    "        print ('ooo follow those steps')\n",
    "if choice == 'lc':\n",
    "        print (\"take out your magnifying glass.\")\n",
    "if choice == (\"w\") : \n",
    "        print(\" ok then keep waiting...\")\n",
    "\n",
    "        choice = input(\"Enter your choice (2 to pick detective method): \")"
   ]
  },
  {
   "cell_type": "markdown",
   "metadata": {},
   "source": [
    "now the cHARAITOR information will be imported here \n"
   ]
  },
  {
   "cell_type": "code",
   "execution_count": null,
   "metadata": {},
   "outputs": [],
   "source": [
    "import file"
   ]
  },
  {
   "cell_type": "code",
   "execution_count": 2,
   "metadata": {},
   "outputs": [
    {
     "name": "stdout",
     "output_type": "stream",
     "text": [
      " was not found.\n"
     ]
    }
   ],
   "source": [
    "my_list = [ \"Joe\", \"Eve\", \"Max\", \"Ari\",\"Jack\",\"Bob\"]\n",
    "victim_name = input (\"Enter victim name here: \").strip().lower()\n",
    "\n",
    "\n",
    "\n",
    "if victim_name in [name.lower() for name in my_list]:\n",
    "    my_list = [name for name in my_list if name.lower() != victim_name]\n",
    "    print(\"status updates... the living are:\", my_list)\n",
    "\n",
    "else:\n",
    "    print(f\"{victim_name} was not found.\")"
   ]
  },
  {
   "cell_type": "code",
   "execution_count": 2,
   "metadata": {},
   "outputs": [
    {
     "name": "stdout",
     "output_type": "stream",
     "text": [
      " suspect options are:['Joe', 'Eve', 'Max', 'Ari', 'Jack', 'Bob']\n",
      "Our the supect is: eve\n"
     ]
    }
   ],
   "source": [
    "my_list = [ \"Joe\", \"Eve\", \"Max\", \"Ari\",\"Jack\",\"Bob\"]\n",
    "print (f\" suspect options are:{my_list}\")\n",
    "suspect_name = input(\"Who do you pick...:\").strip().lower()\n",
    "print(\"Our the supect is:\",suspect_name)"
   ]
  },
  {
   "cell_type": "code",
   "execution_count": 3,
   "metadata": {},
   "outputs": [
    {
     "ename": "IndentationError",
     "evalue": "unexpected indent (692050996.py, line 56)",
     "output_type": "error",
     "traceback": [
      "\u001b[1;36m  Cell \u001b[1;32mIn[3], line 56\u001b[1;36m\u001b[0m\n\u001b[1;33m    choice = input (\" pick your method of pursuit: s for picking a suspect, f to follow tracks, l look for clues, w wait out the perp: \").strip()\u001b[0m\n\u001b[1;37m    ^\u001b[0m\n\u001b[1;31mIndentationError\u001b[0m\u001b[1;31m:\u001b[0m unexpected indent\n"
     ]
    }
   ],
   "source": [
    "# Mafia intro in py file\n",
    "input( \"press enter to start:\")\n",
    "print ( \"wire sounds \")\n",
    "print (\" flashing lights\")\n",
    "print ( \" woow you are spining out of control\" )\n",
    "print ( \" try to stop the spining\")\n",
    "input (\" press your enter to stop\")\n",
    "print ( \" it seems like you have entered a time machine \" )\n",
    "print ( \" Welcome, or should I say good luck...\" )\n",
    "## player selection\n",
    "input(\"press enter to continue:\")\n",
    "print(\" my name is Fern. I am the all seeing eye... I will be the narrator of this story\")\n",
    "print (\"I dont often see many new people around this town...Lets find out who you are\")\n",
    "choice = input ( \"Press 1 for Murder or 2 for Detective enter:\")\n",
    "if choice == '1':\n",
    "  print (\"ooo scary a murder is in town\")\n",
    "elif choice == '2':\n",
    "  print (\" so theres a new sherif in town then...\")\n",
    "else:\n",
    "  print(\"Pick again 1 or 2.\")\n",
    "\n",
    "## inventory \n",
    "if choice == '1':\n",
    " ##   print('murder inventory')\n",
    "  choice = input(\"Pick your murder method: p for pillow, k for knife, g for gun: \")\n",
    "  if choice == 'p':\n",
    "    print(\"Night night it is...\")\n",
    "  elif choice == 'k':\n",
    "    print(\"Didn't anyone ever tell you to be careful running around with knives?\")\n",
    "  elif choice == 'g':\n",
    "    print(\"Ah, a classic one and done kind of deal.\")\n",
    "  else:\n",
    "    print(\"Invalid choice. Please choose either p, k, or g.\")\n",
    "\n",
    "  ## the death of a charator and removal\n",
    "## these are the town people \n",
    "\n",
    "\n",
    "if choice == '1':\n",
    "  my_list = [ \"Joe\", \"Eve\", \"Max\", \"Ari\",\"Jack\",\"Bob\"]\n",
    "  victim_name = input (\"Enter victim name here: \").strip().lower()\n",
    "\n",
    "\n",
    "  if victim_name in [name.lower() for name in my_list]:\n",
    "    my_list = [name for name in my_list if name.lower() != victim_name]\n",
    "    print(\"status updates... the living are:\", my_list)\n",
    "\n",
    "  else:\n",
    "    print(f\"{victim_name} was not found.\")\n",
    "\n",
    "\n",
    "## option 2\n",
    "if choice == '2':\n",
    "  print (f\"well dectetive it seems like you have your work cut out for you\")\n",
    "    ## PRINT (DECTETIVE INVENTORY)\n",
    "       choice = input (\" pick your method of pursuit: s for picking a suspect, f to follow tracks, l look for clues, w wait out the perp: \").strip()\n",
    "       if choice.lower () == 's':\n",
    "              print (\"who is the most sus here\")\n",
    "       elif choice.lower() == 'f':\n",
    "              print (\"ooo follow those steps\")\n",
    "       elif choice.lower() == 'l':\n",
    "              print (\"take out your magnifying glass.\")\n",
    "       elif choice.lower() == 'w':\n",
    "              print(\" ok then keep waiting...\")\n",
    "       else:\n",
    "              print(\"Invalid choice. Please choose from 's', 'f', 'l', or 'w'.\")\n",
    "#### charator list method will pull from file \n",
    "if choice ==  's':\n",
    "    my_list = [ \"Joe\", \"Eve\", \"Max\", \"Ari\",\"Jack\",\"Bob\"]\n",
    "print (f\" suspect options are:{my_list}\")\n",
    "suspect_name = input(\"Who do you pick...:\").strip().lower()\n",
    "print(\"Our the supect is:\",suspect_name)\n",
    "if choice == 'f':\n",
    "  print(f\"what is that...\")\n",
    "  print(f \" the murder weapon\")\n",
    "\n",
    "## alex put the stats here  with the doctor saved "
   ]
  }
 ],
 "metadata": {
  "kernelspec": {
   "display_name": "base",
   "language": "python",
   "name": "python3"
  },
  "language_info": {
   "codemirror_mode": {
    "name": "ipython",
    "version": 3
   },
   "file_extension": ".py",
   "mimetype": "text/x-python",
   "name": "python",
   "nbconvert_exporter": "python",
   "pygments_lexer": "ipython3",
   "version": "3.12.7"
  }
 },
 "nbformat": 4,
 "nbformat_minor": 2
}
