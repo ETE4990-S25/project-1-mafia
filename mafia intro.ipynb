{
 "cells": [
  {
   "cell_type": "code",
   "execution_count": null,
   "metadata": {},
   "outputs": [],
   "source": [
    "## Mafia game intro\n",
    "\n",
    "input( \"press enter to start:\")\n",
    "print ( \"wire sounds \")\n",
    "print (\" flashing lights\")\n",
    "print ( \" woow you are spining out of control\" )\n",
    "print ( \" try to stop the spining\")\n",
    "input (\" press your enter to stop\")\n",
    "\n",
    "print ( \" it seems like you have entered a time machine \" )\n",
    "print ( \" Welcome, or should I say good luck...\" )\n",
    "\n"
   ]
  },
  {
   "cell_type": "code",
   "execution_count": 4,
   "metadata": {},
   "outputs": [],
   "source": [
    "#### charators are in one file \n",
    "### npc detec uses a dice roll to pick joureny \n",
    "## DOCTOR WILL ALWAYS roll a dice on who to save"
   ]
  },
  {
   "cell_type": "code",
   "execution_count": null,
   "metadata": {},
   "outputs": [],
   "source": []
  },
  {
   "cell_type": "code",
   "execution_count": null,
   "metadata": {},
   "outputs": [],
   "source": [
    "input(\"press enter to continue:\")\n",
    "print(\" my name is Fern. I am the all seeing eye... I will be the narrator of this story\")\n",
    "print (\"I dont often see many new people around this town...Lets find out who you are\")\n",
    "choice = input ( \"Press 1 for Murder or 2 for Detective\")\n",
    "if choice == '1':\n",
    "  print (\"ooo scary a murder is in town\")\n",
    "elif choice == '2':\n",
    "  print (\" so theres a new sherif in town then...\")\n",
    "else:\n",
    "  print(\"Pick again 1 or 2.\")"
   ]
  },
  {
   "cell_type": "code",
   "execution_count": null,
   "metadata": {},
   "outputs": [
    {
     "ename": "IndentationError",
     "evalue": "expected an indented block after 'if' statement on line 1 (2517505209.py, line 3)",
     "output_type": "error",
     "traceback": [
      "\u001b[1;36m  Cell \u001b[1;32mIn[14], line 3\u001b[1;36m\u001b[0m\n\u001b[1;33m    choice = input (\"pick your murder method p for pillow, k for knife, g for gun\")\u001b[0m\n\u001b[1;37m    ^\u001b[0m\n\u001b[1;31mIndentationError\u001b[0m\u001b[1;31m:\u001b[0m expected an indented block after 'if' statement on line 1\n"
     ]
    }
   ],
   "source": [
    "if choice == '1':\n",
    " ##   print('murder inventory')\n",
    "if choice = input (\"pick your murder method p for pillow, k for knife, g for gun\")\n",
    "if choice == 'p':\n",
    "    print (\"night night it is...\" )\n",
    "elif choice == 'k':\n",
    "   print ('didnt anyone ever tell you to be carefull runing around with Knifes' )\n",
    "else:\n",
    "    print(\"aah a classic one and done kinda deal\")"
   ]
  }
 ],
 "metadata": {
  "kernelspec": {
   "display_name": "base",
   "language": "python",
   "name": "python3"
  },
  "language_info": {
   "codemirror_mode": {
    "name": "ipython",
    "version": 3
   },
   "file_extension": ".py",
   "mimetype": "text/x-python",
   "name": "python",
   "nbconvert_exporter": "python",
   "pygments_lexer": "ipython3",
   "version": "3.12.7"
  }
 },
 "nbformat": 4,
 "nbformat_minor": 2
}
