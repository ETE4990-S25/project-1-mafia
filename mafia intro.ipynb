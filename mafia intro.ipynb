{
 "cells": [
  {
   "cell_type": "code",
   "execution_count": 3,
   "metadata": {},
   "outputs": [
    {
     "name": "stdout",
     "output_type": "stream",
     "text": [
      "wire sounds \n",
      " flashing lights\n",
      " woow you are spining out of control\n",
      " try to stop the spining\n",
      " it seems like you have entered a time machine \n",
      " Welcome, or should I say good luck...\n"
     ]
    }
   ],
   "source": [
    "## Mafia game intro\n",
    "\n",
    "input( \"press enter to start:\")\n",
    "print ( \"wire sounds \")\n",
    "print (\" flashing lights\")\n",
    "print ( \" woow you are spining out of control\" )\n",
    "print ( \" try to stop the spining\")\n",
    "input (\" press your enter to stop\")\n",
    "\n",
    "print ( \" it seems like you have entered a time machine \" )\n",
    "print ( \" Welcome, or should I say good luck...\" )\n",
    "\n"
   ]
  },
  {
   "cell_type": "code",
   "execution_count": 4,
   "metadata": {},
   "outputs": [],
   "source": [
    "#### charators are in one file \n",
    "### npc detec uses a dice roll to pick joureny \n",
    "## DOCTOR WILL ALWAYS roll a dice on who to save"
   ]
  },
  {
   "cell_type": "code",
   "execution_count": null,
   "metadata": {},
   "outputs": [],
   "source": []
  },
  {
   "cell_type": "code",
   "execution_count": 6,
   "metadata": {},
   "outputs": [
    {
     "ename": "SyntaxError",
     "evalue": "invalid syntax (1831924624.py, line 5)",
     "output_type": "error",
     "traceback": [
      "\u001b[1;36m  Cell \u001b[1;32mIn[6], line 5\u001b[1;36m\u001b[0m\n\u001b[1;33m    if = = 1\u001b[0m\n\u001b[1;37m       ^\u001b[0m\n\u001b[1;31mSyntaxError\u001b[0m\u001b[1;31m:\u001b[0m invalid syntax\n"
     ]
    }
   ],
   "source": [
    "input(\"press enter to continue:\")\n",
    "print(\" my name is Fern I am the all seeing eye... I will be the narrator of this story\")\n",
    "print (\"I dont often see many new people around this town...Lets find out who you are\")\n",
    "input ( \"press 1 for Murder or 2 for detective\")\n",
    "if = = 1 \n",
    "  print (\"ooo scary a murder is in town\")\n",
    "elif\n",
    "  print (\" so theres a new sherif in town then...\")"
   ]
  }
 ],
 "metadata": {
  "kernelspec": {
   "display_name": "base",
   "language": "python",
   "name": "python3"
  },
  "language_info": {
   "codemirror_mode": {
    "name": "ipython",
    "version": 3
   },
   "file_extension": ".py",
   "mimetype": "text/x-python",
   "name": "python",
   "nbconvert_exporter": "python",
   "pygments_lexer": "ipython3",
   "version": "3.12.7"
  }
 },
 "nbformat": 4,
 "nbformat_minor": 2
}
