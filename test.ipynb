{
 "cells": [
  {
   "cell_type": "code",
   "execution_count": 4,
   "metadata": {},
   "outputs": [
    {
     "name": "stdout",
     "output_type": "stream",
     "text": [
      "The doctor was able to successfully save a Townsperson tonight\n",
      "Alive\n",
      "Injured\n",
      "Alive\n",
      "Alive\n",
      "Dead\n"
     ]
    }
   ],
   "source": [
    "import mafia_chara\n",
    "\n",
    "#test file for testing out character classes and methods\n",
    "\n",
    "Bob=mafia_chara.Townperson(\"Bob\", \"townspeople\", \"Alive\", 1)\n",
    "Alice=mafia_chara.Townperson(\"Alice\", \"townspeople\", \"Injured\", 2)\n",
    "Charlie=mafia_chara.Townperson(\"Charlie\", \"townspeople\", \"Alive\", 3)\n",
    "Jane=mafia_chara.Townperson(\"Jane\", \"townspeople\", \"Injured\", 4)\n",
    "Carl=mafia_chara.Townperson(\"Carl\", \"townspeople\", \"Dead\", 5)\n",
    "doctor=mafia_chara.Doctor(\"Jeff\",\"doctor\",\"Alive\")\n",
    "townylist=[Bob,Alice,Charlie,Jane,Carl]\n",
    "testkiller=mafia_chara.playKiller(\"Joseph\",\"Murderer\",\"Alive\")\n",
    "Knife=mafia_chara.mafia_items.basicItems(\"Knife\",\"BLABLABLA THIS IS A TEST DESCRIPTION\",2)\n",
    "Gun=mafia_chara.mafia_items.basicItems(\"Gun\",\"BLABLABLA THIS IS A TEST DESCRIPTION\",3)\n",
    "Pillow=mafia_chara.mafia_items.basicItems(\"Pillow\",\"BLABLABLA THIS IS A TEST DESCRIPTION\",1)\n",
    "doctor.heal(townylist)\n",
    "\n",
    "print(Bob.status)\n",
    "print(Alice.status)\n",
    "print(Charlie.status)\n",
    "print(Jane.status)\n",
    "print(Carl.status)\n",
    "\n"
   ]
  },
  {
   "cell_type": "markdown",
   "metadata": {},
   "source": [
    "Below is testing for the player detective and its methods"
   ]
  },
  {
   "cell_type": "code",
   "execution_count": 7,
   "metadata": {},
   "outputs": [
    {
     "ename": "NameError",
     "evalue": "name 'mafia_chara' is not defined",
     "output_type": "error",
     "traceback": [
      "\u001b[1;31m---------------------------------------------------------------------------\u001b[0m",
      "\u001b[1;31mNameError\u001b[0m                                 Traceback (most recent call last)",
      "Cell \u001b[1;32mIn[7], line 1\u001b[0m\n\u001b[1;32m----> 1\u001b[0m TestDect\u001b[38;5;241m=\u001b[39mmafia_chara\u001b[38;5;241m.\u001b[39mplayDetective(\u001b[38;5;124m\"\u001b[39m\u001b[38;5;124mhorton\u001b[39m\u001b[38;5;124m\"\u001b[39m,\u001b[38;5;124m\"\u001b[39m\u001b[38;5;124mDetective\u001b[39m\u001b[38;5;124m\"\u001b[39m,\u001b[38;5;124m'\u001b[39m\u001b[38;5;124mAlive\u001b[39m\u001b[38;5;124m'\u001b[39m)\n\u001b[0;32m      2\u001b[0m TestDect\u001b[38;5;241m.\u001b[39mdectInventory\u001b[38;5;241m=\u001b[39m[\u001b[38;5;124m\"\u001b[39m\u001b[38;5;124mItem 1\u001b[39m\u001b[38;5;124m\"\u001b[39m,\u001b[38;5;124m\"\u001b[39m\u001b[38;5;124mItem 2\u001b[39m\u001b[38;5;124m\"\u001b[39m,\u001b[38;5;124m\"\u001b[39m\u001b[38;5;124mItem 3\u001b[39m\u001b[38;5;124m\"\u001b[39m]\n\u001b[0;32m      3\u001b[0m TestDect\u001b[38;5;241m.\u001b[39mcheckInv()\n",
      "\u001b[1;31mNameError\u001b[0m: name 'mafia_chara' is not defined"
     ]
    }
   ],
   "source": [
    "TestDect=mafia_chara.playDetective(\"horton\",\"Detective\",'Alive')\n",
    "TestDect.dectInventory=[\"Item 1\",\"Item 2\",\"Item 3\"]\n",
    "TestDect.checkInv()"
   ]
  },
  {
   "cell_type": "markdown",
   "metadata": {},
   "source": [
    "murderer testing"
   ]
  },
  {
   "cell_type": "code",
   "execution_count": null,
   "metadata": {},
   "outputs": [],
   "source": [
    "\n",
    "testkiller.killInv=[Knife,Pillow,Gun]\n",
    "testkiller.checkInv_k()\n",
    "testkiller.killTown(Bob,Knife)\n",
    "print(Knife.itemUses)\n",
    "print(Bob.status)\n",
    "testkiller.killTown(Charlie,Knife)\n",
    "print(Knife.itemUses)\n",
    "print(Charlie.status)\n",
    "testkiller.killTown(Jane,Knife)\n",
    "print(Jane.status)\n",
    "\n",
    "testkiller.checkInv_k()   #testing to ensure that option CANNOT be used once it \n",
    " \n",
    "\n",
    "\n",
    "\n",
    "\n"
   ]
  },
  {
   "cell_type": "code",
   "execution_count": 8,
   "metadata": {},
   "outputs": [
    {
     "ename": "NameError",
     "evalue": "name 'Knife' is not defined",
     "output_type": "error",
     "traceback": [
      "\u001b[1;31m---------------------------------------------------------------------------\u001b[0m",
      "\u001b[1;31mNameError\u001b[0m                                 Traceback (most recent call last)",
      "Cell \u001b[1;32mIn[8], line 5\u001b[0m\n\u001b[0;32m      1\u001b[0m \u001b[38;5;66;03m#killinput=input(\"Who will you target\")\u001b[39;00m\n\u001b[0;32m      2\u001b[0m \u001b[38;5;66;03m#killmethodinput=input(\"What weapon will you use?\")\u001b[39;00m\n\u001b[1;32m----> 5\u001b[0m testkiller\u001b[38;5;241m.\u001b[39mkillInv\u001b[38;5;241m=\u001b[39m[Knife,Pillow,Gun]\n\u001b[0;32m      7\u001b[0m killinput \u001b[38;5;241m=\u001b[39m \u001b[38;5;28minput\u001b[39m(\u001b[38;5;124m\"\u001b[39m\u001b[38;5;124mWho will you target? \u001b[39m\u001b[38;5;124m\"\u001b[39m)\u001b[38;5;241m.\u001b[39mstrip()\n\u001b[0;32m      8\u001b[0m killmethodinput \u001b[38;5;241m=\u001b[39m \u001b[38;5;28minput\u001b[39m(\u001b[38;5;124m\"\u001b[39m\u001b[38;5;124mWhat weapon will you use? \u001b[39m\u001b[38;5;124m\"\u001b[39m)\u001b[38;5;241m.\u001b[39mstrip()\n",
      "\u001b[1;31mNameError\u001b[0m: name 'Knife' is not defined"
     ]
    }
   ],
   "source": [
    "#killinput=input(\"Who will you target\")\n",
    "#killmethodinput=input(\"What weapon will you use?\")\n",
    "\n",
    "\n",
    "testkiller.killInv=[Knife,Pillow,Gun]\n",
    "\n",
    "killinput = input(\"Who will you target? \").strip()\n",
    "killmethodinput = input(\"What weapon will you use? \").strip()\n",
    "\n",
    "def get_target_by_name(name, townylist):                        #This block was created with AI assistance (Deepseek) {start}\n",
    "    for townie in townylist:                                    #\n",
    "        if townie.name.lower() == name.strip().lower():         #\n",
    "            return townie                                       #\n",
    "    return None                                                 #\n",
    "                                                                #These two functions are helper functions meant to convert the user input  \n",
    "def get_method_by_name(name, killer):                           #from strings into the proper objects to be fed into the class method below\n",
    "    for item in killer.killInv:                                 #\n",
    "        if item.Itemname.lower() == name.strip().lower():       #\n",
    "            return item                                         #\n",
    "    return None                                                 #\n",
    "\n",
    "kill_target = get_target_by_name(killinput, townylist)          #\n",
    "kill_method = get_method_by_name(killmethodinput, testkiller)   #This block was created with AI assistance (Deepseek) {end}\n",
    "\n",
    "\n",
    "\n",
    "testkiller.killTown(kill_target,kill_method )\n",
    "\n",
    "# if killinput\n",
    "print(Bob.status)"
   ]
  }
 ],
 "metadata": {
  "kernelspec": {
   "display_name": "Python 3",
   "language": "python",
   "name": "python3"
  },
  "language_info": {
   "codemirror_mode": {
    "name": "ipython",
    "version": 3
   },
   "file_extension": ".py",
   "mimetype": "text/x-python",
   "name": "python",
   "nbconvert_exporter": "python",
   "pygments_lexer": "ipython3",
   "version": "3.12.7"
  }
 },
 "nbformat": 4,
 "nbformat_minor": 2
}
