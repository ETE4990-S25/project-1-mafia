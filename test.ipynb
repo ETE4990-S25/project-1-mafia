{
 "cells": [
  {
   "cell_type": "code",
   "execution_count": 27,
   "metadata": {},
   "outputs": [
    {
     "name": "stdout",
     "output_type": "stream",
     "text": [
      "The doctor failed to save any Townsperson tonight\n",
      "Alive\n",
      "Injured\n",
      "Dead\n",
      "Injured\n",
      "Dead\n"
     ]
    }
   ],
   "source": [
    "import mafia_chara\n",
    "\n",
    "#test file for testing out character classes and methods\n",
    "\n",
    "Bob=mafia_chara.Townperson(\"Bob\", \"townspeople\", \"Alive\", 1)\n",
    "Alice=mafia_chara.Townperson(\"Alice\", \"townspeople\", \"Injured\", 2)\n",
    "Charlie=mafia_chara.Townperson(\"Charlie\", \"townspeople\", \"Dead\", 3)\n",
    "Jane=mafia_chara.Townperson(\"Jane\", \"townspeople\", \"Injured\", 4)\n",
    "Carl=mafia_chara.Townperson(\"Carl\", \"townspeople\", \"Dead\", 5)\n",
    "doctor=mafia_chara.Doctor(\"Jeff\",\"doctor\",\"Alive\")\n",
    "townylist=[Bob,Alice,Charlie,Jane,Carl]\n",
    "\n",
    "doctor.heal(townylist)\n",
    "\n",
    "print(Bob.status)\n",
    "print(Alice.status)\n",
    "print(Charlie.status)\n",
    "print(Jane.status)\n",
    "print(Carl.status)\n",
    "\n"
   ]
  }
 ],
 "metadata": {
  "kernelspec": {
   "display_name": "base",
   "language": "python",
   "name": "python3"
  },
  "language_info": {
   "codemirror_mode": {
    "name": "ipython",
    "version": 3
   },
   "file_extension": ".py",
   "mimetype": "text/x-python",
   "name": "python",
   "nbconvert_exporter": "python",
   "pygments_lexer": "ipython3",
   "version": "3.12.7"
  }
 },
 "nbformat": 4,
 "nbformat_minor": 2
}
