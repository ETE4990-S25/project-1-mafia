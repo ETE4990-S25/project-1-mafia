{
 "cells": [
  {
   "cell_type": "code",
   "execution_count": 4,
   "metadata": {},
   "outputs": [
    {
     "name": "stdout",
     "output_type": "stream",
     "text": [
      "The doctor was able to successfully save a Townsperson tonight\n",
      "Alive\n",
      "Injured\n",
      "Alive\n",
      "Alive\n",
      "Dead\n"
     ]
    }
   ],
   "source": [
    "import mafia_chara\n",
    "\n",
    "#test file for testing out character classes and methods\n",
    "\n",
    "Bob=mafia_chara.Townperson(\"Bob\", \"townspeople\", \"Alive\", 1)\n",
    "Alice=mafia_chara.Townperson(\"Alice\", \"townspeople\", \"Injured\", 2)\n",
    "Charlie=mafia_chara.Townperson(\"Charlie\", \"townspeople\", \"Alive\", 3)\n",
    "Jane=mafia_chara.Townperson(\"Jane\", \"townspeople\", \"Injured\", 4)\n",
    "Carl=mafia_chara.Townperson(\"Carl\", \"townspeople\", \"Dead\", 5)\n",
    "doctor=mafia_chara.Doctor(\"Jeff\",\"doctor\",\"Alive\")\n",
    "townylist=[Bob,Alice,Charlie,Jane,Carl]\n",
    "testkiller=mafia_chara.playKiller(\"Joseph\",\"Murderer\",\"Alive\")\n",
    "Knife=mafia_chara.mafia_items.basicItems(\"Knife\",\"BLABLABLA THIS IS A TEST DESCRIPTION\",2)\n",
    "Gun=mafia_chara.mafia_items.basicItems(\"Gun\",\"BLABLABLA THIS IS A TEST DESCRIPTION\",3)\n",
    "Pillow=mafia_chara.mafia_items.basicItems(\"Pillow\",\"BLABLABLA THIS IS A TEST DESCRIPTION\",1)\n",
    "doctor.heal(townylist)\n",
    "\n",
    "print(Bob.status)\n",
    "print(Alice.status)\n",
    "print(Charlie.status)\n",
    "print(Jane.status)\n",
    "print(Carl.status)\n",
    "\n"
   ]
  },
  {
   "cell_type": "markdown",
   "metadata": {},
   "source": [
    "Below is testing for the player detective and its methods"
   ]
  },
  {
   "cell_type": "code",
   "execution_count": null,
   "metadata": {},
   "outputs": [],
   "source": [
    "TestDect=mafia_chara.playDetective(\"horton\",\"Detective\",'Alive')\n",
    "TestDect.dectInventory=[\"Item 1\",\"Item 2\",\"Item 3\"]\n",
    "TestDect.checkInv()"
   ]
  },
  {
   "cell_type": "markdown",
   "metadata": {},
   "source": [
    "murderer testing"
   ]
  },
  {
   "cell_type": "code",
   "execution_count": null,
   "metadata": {},
   "outputs": [],
   "source": [
    "\n",
    "testkiller.killInv=[Knife,Pillow,Gun]\n",
    "testkiller.checkInv_k()\n",
    "testkiller.killTown(Bob,Knife)\n",
    "print(Knife.itemUses)\n",
    "print(Bob.status)\n",
    "testkiller.killTown(Charlie,Knife)\n",
    "print(Knife.itemUses)\n",
    "print(Charlie.status)\n",
    "testkiller.killTown(Jane,Knife)\n",
    "print(Jane.status)\n",
    "\n",
    "testkiller.checkInv_k()   #testing to ensure that option CANNOT be used once it \n",
    " \n",
    "\n",
    "\n",
    "\n",
    "\n"
   ]
  },
  {
   "cell_type": "code",
   "execution_count": null,
   "metadata": {},
   "outputs": [
    {
     "name": "stdout",
     "output_type": "stream",
     "text": [
      "Bob's fate has been sealed...\n",
      "Injured\n"
     ]
    }
   ],
   "source": [
    "#killinput=input(\"Who will you target\")\n",
    "#killmethodinput=input(\"What weapon will you use?\")\n",
    "\n",
    "\n",
    "testkiller.killInv=[Knife,Pillow,Gun]\n",
    "\n",
    "killinput = input(\"Who will you target? \").strip()\n",
    "killmethodinput = input(\"What weapon will you use? \").strip()\n",
    "\n",
    "def get_target_by_name(name, townylist):                        #This block was created with AI assistance (Deepseek) {start}\n",
    "    for townie in townylist:                                    #\n",
    "        if townie.name.lower() == name.strip().lower():         #\n",
    "            return townie                                       #\n",
    "    return None                                                 #\n",
    "                                                                #These two functions are helper functions meant to convert the user input  \n",
    "def get_method_by_name(name, killer):                           #from strings into the proper objects to be fed into the class method below\n",
    "    for item in killer.killInv:                                 #\n",
    "        if item.Itemname.lower() == name.strip().lower():       #\n",
    "            return item                                         #\n",
    "    return None                                                 #\n",
    "\n",
    "kill_target = get_target_by_name(killinput, townylist)          #\n",
    "kill_method = get_method_by_name(killmethodinput, testkiller)   #This block was created with AI assistance (Deepseek) {end}\n",
    "\n",
    "\n",
    "\n",
    "testkiller.killTown(kill_target,kill_method )\n",
    "\n",
    "# if killinput\n",
    "print(Bob.status)"
   ]
  }
 ],
 "metadata": {
  "kernelspec": {
   "display_name": "base",
   "language": "python",
   "name": "python3"
  },
  "language_info": {
   "codemirror_mode": {
    "name": "ipython",
    "version": 3
   },
   "file_extension": ".py",
   "mimetype": "text/x-python",
   "name": "python",
   "nbconvert_exporter": "python",
   "pygments_lexer": "ipython3",
   "version": "3.12.7"
  }
 },
 "nbformat": 4,
 "nbformat_minor": 2
}
